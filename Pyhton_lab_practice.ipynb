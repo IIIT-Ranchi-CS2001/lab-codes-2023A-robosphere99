{
 "cells": [
  {
   "cell_type": "markdown",
   "metadata": {},
   "source": [
    "## Lab-1 First Day"
   ]
  },
  {
   "cell_type": "markdown",
   "metadata": {},
   "source": [
    "# Experiment 1\n",
    "WAP to do basic arthematic operations.\n"
   ]
  },
  {
   "cell_type": "code",
   "execution_count": 20,
   "metadata": {},
   "outputs": [
    {
     "name": "stdout",
     "output_type": "stream",
     "text": [
      "Summation of 2  and 3 is 5\n",
      "Difference of 2  and 3 is -1\n",
      "Multiplication of 2  and 3 is 6\n",
      "Division of 2  and 3 is 0\n",
      "Power of 2  and 3 is 8\n"
     ]
    }
   ],
   "source": [
    "a= int(input(\"Enter First Nuber\"))\n",
    "b= int(input(\"Enter Second Number\"))\n",
    "sum= a+b\n",
    "diff=a-b\n",
    "mul=a*b\n",
    "div=a//b\n",
    "pow=a**b\n",
    "print(f'Summation of {a}  and {b} is {sum}')\n",
    "print(f'Difference of {a}  and {b} is {diff}')\n",
    "print(f'Multiplication of {a}  and {b} is {mul}')\n",
    "print(f'Division of {a}  and {b} is {div}')\n",
    "print(f'Power of {a}  and {b} is {pow}')"
   ]
  },
  {
   "cell_type": "markdown",
   "metadata": {},
   "source": [
    "# Experiment 2\n",
    "\n",
    "(A) WAP to find area and perimeter of a triangle when all the sides of the triangle are given.(Using Hereons Formula)\n"
   ]
  },
  {
   "cell_type": "code",
   "execution_count": 19,
   "metadata": {},
   "outputs": [
    {
     "name": "stdout",
     "output_type": "stream",
     "text": [
      "Area of Traingle is 6.0 and Perimeter is 12\n"
     ]
    }
   ],
   "source": [
    "import math\n",
    "a= int(input(\"Enter First  Side\"))\n",
    "b= int(input(\"Enter Second  Side\"))\n",
    "c= int(input(\"Enter Second  Side\"))\n",
    "s= (a+b+c)/2\n",
    "area=math.sqrt(s*(s-a)*(s-b)*(s-c))\n",
    "perimeter=a+b+c\n",
    "print(f'Area of Traingle is {area} and Perimeter is {perimeter}')\n"
   ]
  },
  {
   "cell_type": "markdown",
   "metadata": {},
   "source": [
    "# Experiment 3\n",
    "(B)    WAP to find area and perimeter of a triangle when all the sides of the triangle are given.(Using Hereo)\n"
   ]
  },
  {
   "cell_type": "code",
   "execution_count": 21,
   "metadata": {},
   "outputs": [
    {
     "name": "stdout",
     "output_type": "stream",
     "text": [
      "Angles of Traingle are 36.86989764584401 , 53.13010235415599 and 90.0\n"
     ]
    }
   ],
   "source": [
    "import math\n",
    "a= int(input(\"Enter First  Side\"))\n",
    "b= int(input(\"Enter Second  Side\"))\n",
    "c= int(input(\"Enter Second  Side\"))\n",
    "def angle(a,b,c):\n",
    "    return math.degrees(math.acos(((b**2)+(c**2)-(a**2))/(2*b*c)))\n",
    "alpha = angle(a,b,c)\n",
    "beta = angle(b,c,a)\n",
    "gamma = angle(c,a,b)\n",
    "print(f'Angles of Traingle are {alpha} , {beta} and {gamma}')\n"
   ]
  },
  {
   "cell_type": "markdown",
   "metadata": {},
   "source": [
    "# Experiment 4\n",
    "(B)    WAP to to convert temperature from degree celcius to farenheit\n"
   ]
  },
  {
   "cell_type": "code",
   "execution_count": 1,
   "metadata": {},
   "outputs": [
    {
     "name": "stdout",
     "output_type": "stream",
     "text": [
      "Temperatre in Farenheit is 113.0\n"
     ]
    }
   ],
   "source": [
    "c = float(input(\"Enter Temperature in C: \"))\n",
    "f = c*1.8 +32\n",
    "print(f'Temperatre in Farenheit is {f}')"
   ]
  },
  {
   "cell_type": "markdown",
   "metadata": {},
   "source": [
    "## Lab-2 STRING MANIPULATION"
   ]
  },
  {
   "cell_type": "markdown",
   "metadata": {},
   "source": [
    "# 1. If the given string S1= “Maha Bharat”, generate the following strings by manipulating S1.\n",
    "    a)“mAHA bHARAT”\n",
    "    b)“Bharat”\n",
    "    c)“BharatBharatBharat”\n",
    "    d)“Mera Bharat”\n",
    "    e)“Mera Bharat Mahan”\n"
   ]
  },
  {
   "cell_type": "code",
   "execution_count": 9,
   "metadata": {},
   "outputs": [
    {
     "name": "stdout",
     "output_type": "stream",
     "text": [
      "a)mAHA bHARAT\n",
      "b)Bharat\n",
      "b)BharatBharatBharat\n",
      "c)Mera Bharat\n",
      "d)Mera Bharat Mahan\n"
     ]
    }
   ],
   "source": [
    "s= \"Maha Bharat\"\n",
    "t=\"\"\n",
    "for i in s :\n",
    "        if 'a' <= i <= 'z':\n",
    "                t = t + i.upper()\n",
    "        elif 'A' <= i <= 'Z':\n",
    "                t= t + i.lower()\n",
    "        else:\n",
    "                t = t + i\n",
    "q = s[5:]\n",
    "r = q*3\n",
    "u = \"Mera \" + q\n",
    "v = u + \" Mahan\"\n",
    "print(f'a){t}')\n",
    "print(f'b){q}')\n",
    "print(f'b){r}')\n",
    "print(f'c){u}')\n",
    "print(f'd){v}')"
   ]
  },
  {
   "cell_type": "markdown",
   "metadata": {},
   "source": [
    "# 2.For the given string S=”Ba Ba Black Sheep”, determine the following using built in functions:\n",
    "        The length of the string S\n",
    "        The first occurrence of the letter ‘e’\n",
    "        The total number of occurrences of ‘a’\n",
    "        Generate “Ta Ta Black Sheep”\n"
   ]
  },
  {
   "cell_type": "code",
   "execution_count": 2,
   "metadata": {},
   "outputs": [
    {
     "name": "stdout",
     "output_type": "stream",
     "text": [
      "Length of s is 17\n",
      "First occurence of e is 14\n",
      "Total occurence of a is 3\n",
      "Ta Ta Black Sheep\n"
     ]
    }
   ],
   "source": [
    "s=\"Ba Ba Black Sheep\"\n",
    "t= \"Ta Ta \" + s[6:]\n",
    "print(f'Length of s is {len(s)}')\n",
    "print(f'First occurence of e is {s.index('e')}')\n",
    "print(f'Total occurence of a is {s.count('a')}')\n",
    "print(t)\n",
    "\n"
   ]
  },
  {
   "cell_type": "markdown",
   "metadata": {},
   "source": [
    "# 3.Write a python script to enter any string at run time and check whether it is a palindrome or not."
   ]
  },
  {
   "cell_type": "code",
   "execution_count": 17,
   "metadata": {},
   "outputs": [
    {
     "name": "stdout",
     "output_type": "stream",
     "text": [
      "Not a Palindrome\n"
     ]
    }
   ],
   "source": [
    "s = input(\"Enter String to check it is palindrome or not\")\n",
    "if (s== s[::-1]) :\n",
    "    print(\"Palindrome\")\n",
    "\n",
    "else :\n",
    "    print(\"Not a Palindrome\")"
   ]
  },
  {
   "cell_type": "markdown",
   "metadata": {},
   "source": [
    "# 4.Enter the following details of a student at run time: - Name, Roll number and marks secured for Mathematics Examination out of 100. Write a python script to display student details as shown:\n",
    "\n",
    "Name:\n",
    "Roll Number:\n",
    "Marks:\n",
    "Grade Point:\n",
    "Remark:\n",
    "\n",
    "The criteria for awarding grade point and remark are as given in the table:\n",
    "\n",
    "S. No.  Range of Marks      Grade Point          Remark\n",
    "1        >= 90                    10             OUTSTANDING\n",
    "2        90 > Marks >= 80         9              VERY GOOD\n",
    "3        80 > Marks >= 70         8              GOOD\n",
    "4        70 > Marks >= 60          7              AVERAGE\n",
    "5        60 > Marks >= 50         6              PASS\n",
    "6        Marks < 50               0              FAIL\n",
    "\n",
    "\n"
   ]
  },
  {
   "cell_type": "code",
   "execution_count": 18,
   "metadata": {},
   "outputs": [
    {
     "name": "stdout",
     "output_type": "stream",
     "text": [
      "\n",
      "Student Details:\n",
      "Name: Anil Alok\n",
      "Roll Number: 2023UG1022\n",
      "Marks: 87\n",
      "Grade Point: 9\n",
      "Remark: VERY GOOD\n"
     ]
    }
   ],
   "source": [
    "def determine_grade_point(marks):\n",
    "    if marks >= 90:\n",
    "        return 10, \"OUTSTANDING\"\n",
    "    elif 80 <= marks < 90:\n",
    "        return 9, \"VERY GOOD\"\n",
    "    elif 70 <= marks < 80:\n",
    "        return 8, \"GOOD\"\n",
    "    elif 60 <= marks < 70:\n",
    "        return 7, \"AVERAGE\"\n",
    "    elif 50 <= marks < 60:\n",
    "        return 6, \"PASS\"\n",
    "    else:\n",
    "        return 0, \"FAIL\"\n",
    "\n",
    "name = input(\"Enter student's name: \")\n",
    "roll_number = input(\"Enter student's roll number: \")\n",
    "marks = int(input(\"Enter marks secured in Mathematics (out of 100): \"))\n",
    "\n",
    "\n",
    "grade_point, remark = determine_grade_point(marks)\n",
    "\n",
    "print(\"\\nStudent Details:\")\n",
    "print(f\"Name: {name}\")\n",
    "print(f\"Roll Number: {roll_number}\")\n",
    "print(f\"Marks: {marks}\")\n",
    "print(f\"Grade Point: {grade_point}\")\n",
    "print(f\"Remark: {remark}\")\n"
   ]
  },
  {
   "cell_type": "markdown",
   "metadata": {},
   "source": [
    "# 5.Write a program to find the roots of a quadratic equation when the coefficients a, b and c are given ( assume that a, b and c are integers)\n",
    "Hint: find the discriminant d= b**2 − 4ac\n",
    "If d = 0, the equation has one real repeated root (both roots are the same: \n",
    "R1= R2 = -b/(2a)\n",
    "\n",
    "If d > 0, the equation has two distinct real roots.\n",
    "\tR1= (-b + sqrt(d))/2a\n",
    "R2= (-b - sqrt(d))/2a\n",
    " \n",
    "If d < 0, the equation has two complex roots.\n",
    "real_part = -b / (2 * a) \n",
    "imaginary_part = math.sqrt(-discriminant) / (2 * a)\n"
   ]
  },
  {
   "cell_type": "code",
   "execution_count": 1,
   "metadata": {},
   "outputs": [
    {
     "name": "stdout",
     "output_type": "stream",
     "text": [
      "The equation has two complex roots: -0.375 + 1.165922381636102i and -0.375 - 1.165922381636102i\n"
     ]
    }
   ],
   "source": [
    "import math\n",
    "a = int(input(\"Enter the coefficient a: \"))\n",
    "b = int(input(\"Enter the coefficient b: \"))\n",
    "c = int(input(\"Enter the coefficient c: \"))\n",
    "\n",
    "discriminant = b ** 2 - 4 * a * c\n",
    "\n",
    "if discriminant > 0:\n",
    "    R1 = (-b + math.sqrt(discriminant)) / (2 * a)\n",
    "    R2 = (-b - math.sqrt(discriminant)) / (2 * a)\n",
    "    print(f\"The equation has two distinct real roots: R1 = {R1}, R2 = {R2}\")\n",
    "elif discriminant == 0:\n",
    "   \n",
    "    R1 = R2 = -b / (2 * a)\n",
    "    print(f\"The equation has one real repeated root: R1 = R2 = {R1}\")\n",
    "else:\n",
    "  \n",
    "    real_part = -b / (2 * a)\n",
    "    imaginary_part = math.sqrt(-discriminant) / (2 * a)\n",
    "    print(f\"The equation has two complex roots: {real_part} + {imaginary_part}i and {real_part} - {imaginary_part}i\")\n"
   ]
  },
  {
   "cell_type": "markdown",
   "metadata": {},
   "source": [
    "## Lab-3 LOOP CONTROL INSTRUCTIONS"
   ]
  },
  {
   "cell_type": "markdown",
   "metadata": {},
   "source": [
    "# 1.Write a python script to find the squares of first n natural numbers. Display both the number and the square as shown below. Use while loop\n",
    "Number    \tSquare\n",
    "1              \t1\n",
    "2               4\n",
    "…\t\t        …\n",
    "n\t        \tn"
   ]
  },
  {
   "cell_type": "code",
   "execution_count": 1,
   "metadata": {},
   "outputs": [
    {
     "name": "stdout",
     "output_type": "stream",
     "text": [
      "Number\tSquare\n",
      "1\t\t1\n",
      "2\t\t4\n",
      "3\t\t9\n",
      "4\t\t16\n",
      "5\t\t25\n",
      "6\t\t36\n",
      "7\t\t49\n",
      "8\t\t64\n",
      "9\t\t81\n",
      "10\t\t100\n"
     ]
    }
   ],
   "source": [
    "n = int(input(\"Enter the value of n: \"))\n",
    "\n",
    "i = 1\n",
    "\n",
    "print(\"Number\\tSquare\")\n",
    "\n",
    "while i <= n:\n",
    "    print(f\"{i}\\t\\t{i * i}\")\n",
    "    i += 1\n"
   ]
  },
  {
   "cell_type": "markdown",
   "metadata": {},
   "source": [
    "# 2.Write a python script to find the sum of the digits of the given number using a while loop. Display the number and the sum."
   ]
  },
  {
   "cell_type": "code",
   "execution_count": 2,
   "metadata": {},
   "outputs": [
    {
     "name": "stdout",
     "output_type": "stream",
     "text": [
      "Number: 43578934\n",
      "Sum of digits: 43\n"
     ]
    }
   ],
   "source": [
    "number = int(input(\"Enter a number: \"))\n",
    "\n",
    "sum_of_digits = 0\n",
    "\n",
    "original_number = number\n",
    "while number > 0:\n",
    "    digit = number % 10     \n",
    "    sum_of_digits += digit  \n",
    "    number //= 10       \n",
    "print(f\"Number: {original_number}\")\n",
    "print(f\"Sum of digits: {sum_of_digits}\")\n"
   ]
  },
  {
   "cell_type": "markdown",
   "metadata": {},
   "source": [
    "# 3.Write a python script to print the first n terms of the Fibonacci series using while loop"
   ]
  },
  {
   "cell_type": "code",
   "execution_count": 3,
   "metadata": {},
   "outputs": [
    {
     "name": "stdout",
     "output_type": "stream",
     "text": [
      "Fibonacci series:\n",
      "0 1 1 2 3 5 8 13 21 34 55 89 144 233 377 610 987 1597 2584 4181 6765 10946 17711 28657 46368 75025 121393 196418 317811 514229 832040 1346269 2178309 3524578 5702887 9227465 14930352 24157817 39088169 63245986 102334155 165580141 267914296 433494437 701408733 1134903170 1836311903 2971215073 4807526976 "
     ]
    }
   ],
   "source": [
    "\n",
    "n = int(input(\"Enter the number of terms: \"))\n",
    "\n",
    "a, b = 0, 1\n",
    "\n",
    "count = 0\n",
    "\n",
    "print(\"Fibonacci series:\")\n",
    "\n",
    "while count < n:\n",
    "    print(a, end=\" \")  \n",
    "    a, b = b, a + b    \n",
    "    count += 1         \n"
   ]
  },
  {
   "cell_type": "markdown",
   "metadata": {},
   "source": [
    "# 4.Write a python script to print the multiplication table of a given number up to the specified limit using a for loop."
   ]
  },
  {
   "cell_type": "code",
   "execution_count": 4,
   "metadata": {},
   "outputs": [
    {
     "name": "stdout",
     "output_type": "stream",
     "text": [
      "Multiplication table of 50:\n",
      "50 x 1 = 50\n",
      "50 x 2 = 100\n",
      "50 x 3 = 150\n",
      "50 x 4 = 200\n",
      "50 x 5 = 250\n",
      "50 x 6 = 300\n",
      "50 x 7 = 350\n",
      "50 x 8 = 400\n",
      "50 x 9 = 450\n",
      "50 x 10 = 500\n"
     ]
    }
   ],
   "source": [
    "\n",
    "number = int(input(\"Enter the number: \"))\n",
    "limit = int(input(\"Enter the limit: \"))\n",
    "\n",
    "print(f\"Multiplication table of {number}:\")\n",
    "\n",
    "for i in range(1, limit + 1):\n",
    "    print(f\"{number} x {i} = {number * i}\")\n"
   ]
  },
  {
   "cell_type": "markdown",
   "metadata": {},
   "source": [
    "# 5.Write a python script to check whether all the characters present in a string are alphanumeric (uppercase letters, lowercase letters or digits) using for  with else. Print True if all characters are alphanumeric. Otherwise print False."
   ]
  },
  {
   "cell_type": "code",
   "execution_count": 6,
   "metadata": {},
   "outputs": [
    {
     "name": "stdout",
     "output_type": "stream",
     "text": [
      "False\n"
     ]
    }
   ],
   "source": [
    "\n",
    "string = input(\"Enter a string: \")\n",
    "\n",
    "for char in string:\n",
    "    if not char.isalnum():  \n",
    "        print(False)\n",
    "        break\n",
    "else:\n",
    "    print(True)\n"
   ]
  },
  {
   "cell_type": "markdown",
   "metadata": {},
   "source": [
    "# 6.Write a python script to find the number of occurrences of a particular character present in the given string using a loop. (Don’t use string methods)."
   ]
  },
  {
   "cell_type": "code",
   "execution_count": 8,
   "metadata": {},
   "outputs": [
    {
     "name": "stdout",
     "output_type": "stream",
     "text": [
      "The character 'h' occurs 2 times in the string.\n"
     ]
    }
   ],
   "source": [
    "\n",
    "string = input(\"Enter a string: \")\n",
    "char_to_count = input(\"Enter the character to count: \")\n",
    "\n",
    "count = 0\n",
    "\n",
    "for char in string:\n",
    "    if char == char_to_count:\n",
    "        count += 1  \n",
    "print(f\"The character '{char_to_count}' occurs {count} times in the string.\")\n"
   ]
  }
 ],
 "metadata": {
  "kernelspec": {
   "display_name": "Python 3",
   "language": "python",
   "name": "python3"
  },
  "language_info": {
   "codemirror_mode": {
    "name": "ipython",
    "version": 3
   },
   "file_extension": ".py",
   "mimetype": "text/x-python",
   "name": "python",
   "nbconvert_exporter": "python",
   "pygments_lexer": "ipython3",
   "version": "3.12.5"
  }
 },
 "nbformat": 4,
 "nbformat_minor": 2
}

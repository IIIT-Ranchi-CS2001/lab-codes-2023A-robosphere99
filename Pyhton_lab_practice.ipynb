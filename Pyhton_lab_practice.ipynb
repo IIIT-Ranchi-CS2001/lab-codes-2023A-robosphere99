{
 "cells": [
  {
   "cell_type": "markdown",
   "metadata": {},
   "source": [
    "# Experiment 1\n",
    "WAP to do basic arthematic operations.\n"
   ]
  },
  {
   "cell_type": "code",
   "execution_count": 20,
   "metadata": {},
   "outputs": [
    {
     "name": "stdout",
     "output_type": "stream",
     "text": [
      "Summation of 2  and 3 is 5\n",
      "Difference of 2  and 3 is -1\n",
      "Multiplication of 2  and 3 is 6\n",
      "Division of 2  and 3 is 0\n",
      "Power of 2  and 3 is 8\n"
     ]
    }
   ],
   "source": [
    "a= int(input(\"Enter First Nuber\"))\n",
    "b= int(input(\"Enter Second Number\"))\n",
    "sum= a+b\n",
    "diff=a-b\n",
    "mul=a*b\n",
    "div=a//b\n",
    "pow=a**b\n",
    "print(f'Summation of {a}  and {b} is {sum}')\n",
    "print(f'Difference of {a}  and {b} is {diff}')\n",
    "print(f'Multiplication of {a}  and {b} is {mul}')\n",
    "print(f'Division of {a}  and {b} is {div}')\n",
    "print(f'Power of {a}  and {b} is {pow}')"
   ]
  },
  {
   "cell_type": "markdown",
   "metadata": {},
   "source": [
    "# Experiment 2\n",
    "\n",
    "(A) WAP to find area and perimeter of a triangle when all the sides of the triangle are given.(Using Hereons Formula)\n"
   ]
  },
  {
   "cell_type": "code",
   "execution_count": 19,
   "metadata": {},
   "outputs": [
    {
     "name": "stdout",
     "output_type": "stream",
     "text": [
      "Area of Traingle is 6.0 and Perimeter is 12\n"
     ]
    }
   ],
   "source": [
    "import math\n",
    "a= int(input(\"Enter First  Side\"))\n",
    "b= int(input(\"Enter Second  Side\"))\n",
    "c= int(input(\"Enter Second  Side\"))\n",
    "s= (a+b+c)/2\n",
    "area=math.sqrt(s*(s-a)*(s-b)*(s-c))\n",
    "perimeter=a+b+c\n",
    "print(f'Area of Traingle is {area} and Perimeter is {perimeter}')\n"
   ]
  },
  {
   "cell_type": "markdown",
   "metadata": {},
   "source": [
    "# Experiment 3\n",
    "(B)    WAP to find area and perimeter of a triangle when all the sides of the triangle are given.(Using Hereo)\n"
   ]
  },
  {
   "cell_type": "code",
   "execution_count": 21,
   "metadata": {},
   "outputs": [
    {
     "name": "stdout",
     "output_type": "stream",
     "text": [
      "Angles of Traingle are 36.86989764584401 , 53.13010235415599 and 90.0\n"
     ]
    }
   ],
   "source": [
    "import math\n",
    "a= int(input(\"Enter First  Side\"))\n",
    "b= int(input(\"Enter Second  Side\"))\n",
    "c= int(input(\"Enter Second  Side\"))\n",
    "def angle(a,b,c):\n",
    "    return math.degrees(math.acos(((b**2)+(c**2)-(a**2))/(2*b*c)))\n",
    "alpha = angle(a,b,c)\n",
    "beta = angle(b,c,a)\n",
    "gamma = angle(c,a,b)\n",
    "print(f'Angles of Traingle are {alpha} , {beta} and {gamma}')\n"
   ]
  },
  {
   "cell_type": "markdown",
   "metadata": {},
   "source": [
    "# Experiment 4\n",
    "(B)    WAP to to convert temperature from degree celcius to farenheit\n"
   ]
  },
  {
   "cell_type": "code",
   "execution_count": 1,
   "metadata": {},
   "outputs": [
    {
     "name": "stdout",
     "output_type": "stream",
     "text": [
      "Temperatre in Farenheit is 113.0\n"
     ]
    }
   ],
   "source": [
    "c = float(input(\"Enter Temperature in C: \"))\n",
    "f = c*1.8 +32\n",
    "print(f'Temperatre in Farenheit is {f}')"
   ]
  },
  {
   "cell_type": "markdown",
   "metadata": {},
   "source": [
    "## Lab-2 STRING MANIPULATION"
   ]
  },
  {
   "cell_type": "markdown",
   "metadata": {},
   "source": [
    "# 1. If the given string S1= “Maha Bharat”, generate the following strings by manipulating S1.\n",
    "    a)“mAHA bHARAT”\n",
    "    b)“Bharat”\n",
    "    c)“BharatBharatBharat”\n",
    "    d)“Mera Bharat”\n",
    "    e)“Mera Bharat Mahan”\n"
   ]
  },
  {
   "cell_type": "code",
   "execution_count": 9,
   "metadata": {},
   "outputs": [
    {
     "name": "stdout",
     "output_type": "stream",
     "text": [
      "a)mAHA bHARAT\n",
      "b)Bharat\n",
      "b)BharatBharatBharat\n",
      "c)Mera Bharat\n",
      "d)Mera Bharat Mahan\n"
     ]
    }
   ],
   "source": [
    "s= \"Maha Bharat\"\n",
    "t=\"\"\n",
    "for i in s :\n",
    "        if 'a' <= i <= 'z':\n",
    "                t = t + i.upper()\n",
    "        elif 'A' <= i <= 'Z':\n",
    "                t= t + i.lower()\n",
    "        else:\n",
    "                t = t + i\n",
    "q = s[5:]\n",
    "r = q*3\n",
    "u = \"Mera \" + q\n",
    "v = u + \" Mahan\"\n",
    "print(f'a){t}')\n",
    "print(f'b){q}')\n",
    "print(f'b){r}')\n",
    "print(f'c){u}')\n",
    "print(f'd){v}')"
   ]
  },
  {
   "cell_type": "markdown",
   "metadata": {},
   "source": [
    "# 2.For the given string S=”Ba Ba Black Sheep”, determine the following using built in functions:\n",
    "        The length of the string S\n",
    "        The first occurrence of the letter ‘e’\n",
    "        The total number of occurrences of ‘a’\n",
    "        Generate “Ta Ta Black Sheep”\n"
   ]
  },
  {
   "cell_type": "code",
   "execution_count": 15,
   "metadata": {},
   "outputs": [
    {
     "name": "stdout",
     "output_type": "stream",
     "text": [
      "Length of s is 17\n",
      "First occurence of e is 14\n",
      "Total occurence of a is 3\n"
     ]
    }
   ],
   "source": [
    "s=\"Ba Ba Black Sheep\"\n",
    "print(f'Length of s is {len(s)}')\n",
    "print(f'First occurence of e is {s.index('e')}')\n",
    "print(f'Total occurence of a is {s.count('a')}')\n",
    "\n"
   ]
  },
  {
   "cell_type": "markdown",
   "metadata": {},
   "source": [
    "# 3.Write a python script to enter any string at run time and check whether it is a palindrome or not."
   ]
  },
  {
   "cell_type": "code",
   "execution_count": 17,
   "metadata": {},
   "outputs": [
    {
     "name": "stdout",
     "output_type": "stream",
     "text": [
      "Not a Palindrome\n"
     ]
    }
   ],
   "source": [
    "s = input(\"Enter String to check it is palindrome or not\")\n",
    "if (s== s[::-1]) :\n",
    "    print(\"Palindrome\")\n",
    "\n",
    "else :\n",
    "    print(\"Not a Palindrome\")"
   ]
  },
  {
   "cell_type": "markdown",
   "metadata": {},
   "source": [
    "# 4.Enter the following details of a student at run time: - Name, Roll number and marks secured for Mathematics Examination out of 100. Write a python script to display student details as shown:\n",
    "Name:\n",
    "Roll Number:\n",
    "Marks:\n",
    "Grade Point:\n",
    "Remark:\n",
    "The criteria for awarding grade point and remark are as given in the table:\n",
    "\n",
    "S. No.\n",
    "Range of Marks\n",
    "Grade Point\n",
    "Remark\n",
    "1\n",
    ">= 90\n",
    "10\n",
    "OUTSTANDING\n",
    "2\n",
    "90 > Marks >= 80\n",
    "9\n",
    "VERY GOOD\n",
    "3\n",
    "80 > Marks >= 70\n",
    "8\n",
    "GOOD\n",
    "4\n",
    "70 > Marks >= 60\n",
    "7\n",
    "AVERAGE\n",
    "5\n",
    "60 > Marks >= 50\n",
    "6\n",
    "PASS\n",
    "6\n",
    "Marks < 50\n",
    "0\n",
    "FAIL\n",
    "\n",
    "\n"
   ]
  },
  {
   "cell_type": "code",
   "execution_count": 18,
   "metadata": {},
   "outputs": [
    {
     "name": "stdout",
     "output_type": "stream",
     "text": [
      "\n",
      "Student Details:\n",
      "Name: Anil Alok\n",
      "Roll Number: 2023UG1022\n",
      "Marks: 87\n",
      "Grade Point: 9\n",
      "Remark: VERY GOOD\n"
     ]
    }
   ],
   "source": [
    "def determine_grade_point(marks):\n",
    "    if marks >= 90:\n",
    "        return 10, \"OUTSTANDING\"\n",
    "    elif 80 <= marks < 90:\n",
    "        return 9, \"VERY GOOD\"\n",
    "    elif 70 <= marks < 80:\n",
    "        return 8, \"GOOD\"\n",
    "    elif 60 <= marks < 70:\n",
    "        return 7, \"AVERAGE\"\n",
    "    elif 50 <= marks < 60:\n",
    "        return 6, \"PASS\"\n",
    "    else:\n",
    "        return 0, \"FAIL\"\n",
    "\n",
    "name = input(\"Enter student's name: \")\n",
    "roll_number = input(\"Enter student's roll number: \")\n",
    "marks = int(input(\"Enter marks secured in Mathematics (out of 100): \"))\n",
    "\n",
    "\n",
    "grade_point, remark = determine_grade_point(marks)\n",
    "\n",
    "print(\"\\nStudent Details:\")\n",
    "print(f\"Name: {name}\")\n",
    "print(f\"Roll Number: {roll_number}\")\n",
    "print(f\"Marks: {marks}\")\n",
    "print(f\"Grade Point: {grade_point}\")\n",
    "print(f\"Remark: {remark}\")\n"
   ]
  },
  {
   "cell_type": "markdown",
   "metadata": {},
   "source": [
    "# 5.Write a program to find the roots of a quadratic equation when the coefficients a, b and c are given ( assume that a, b and c are integers)\n",
    "Hint: find the discriminant d= b**2 − 4ac\n",
    "If d = 0, the equation has one real repeated root (both roots are the same: \n",
    "R1= R2 = -b/(2a)\n",
    "\n",
    "If d > 0, the equation has two distinct real roots.\n",
    "\tR1= (-b + sqrt(d))/2a\n",
    "R2= (-b - sqrt(d))/2a\n",
    " \n",
    "If d < 0, the equation has two complex roots.\n",
    "real_part = -b / (2 * a) \n",
    "imaginary_part = math.sqrt(-discriminant) / (2 * a)\n"
   ]
  }
 ],
 "metadata": {
  "kernelspec": {
   "display_name": "Python 3",
   "language": "python",
   "name": "python3"
  },
  "language_info": {
   "codemirror_mode": {
    "name": "ipython",
    "version": 3
   },
   "file_extension": ".py",
   "mimetype": "text/x-python",
   "name": "python",
   "nbconvert_exporter": "python",
   "pygments_lexer": "ipython3",
   "version": "3.12.5"
  }
 },
 "nbformat": 4,
 "nbformat_minor": 2
}
